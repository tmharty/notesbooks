{
 "cells": [
  {
   "cell_type": "code",
   "execution_count": 1,
   "metadata": {},
   "outputs": [],
   "source": [
    "import pandas as pd\n",
    "import numpy as np\n",
    "import torch\n",
    "import torch.nn as nn\n",
    "import torch.optim as optim\n",
    "from torch.utils.data import Dataset, DataLoader\n",
    "import pytz\n"
   ]
  },
  {
   "cell_type": "code",
   "execution_count": 2,
   "metadata": {},
   "outputs": [],
   "source": [
    "df = pd.read_csv('./Form-714-csv-files-June-2021/Part 3 Schedule 2 - Planning Area Hourly Demand.csv')\n",
    "respondent_id = pd.read_csv('./Form-714-csv-files-June-2021/Respondent IDs.csv')\n",
    "good_ids = respondent_id['respondent_id'].unique()[3:]\n",
    "df = df[df['respondent_id'].isin(good_ids)]\n",
    "hour_cols = [f'hour{i:02d}' for i in range(1, 25)]\n",
    "df = df.loc[~(df[hour_cols] == 0).any(axis=1)]\n",
    "df['timezone'] = df['timezone'].apply(lambda x: x.strip().upper())\n"
   ]
  },
  {
   "cell_type": "code",
   "execution_count": 3,
   "metadata": {},
   "outputs": [
    {
     "name": "stdout",
     "output_type": "stream",
     "text": [
      "[130128 127461  73773  67919  49870  40665  38843  38732  11033  10197\n",
      "   9469   6201   5476   4734   3312   3087   2559   2557   2191   2188\n",
      "   2152   1658   1649    731    730    730    715    517    363    210\n",
      "      3      2      1      1]\n",
      "['EST' 'CST' 'PST' 'MST' 'CDT' 'CPT' 'PDT' 'EDT' 'DST' 'MDT' 'PPT' 'EPT'\n",
      " 'HST' '2' 'CS' 'AKD' '1' '' 'MS' 'MPP' 'CD' 'EDS' 'AKS' 'MPT' 'EAS' 'CEN'\n",
      " 'CDS' 'AST' 'E' 'ADT' 'CSR' '433' 'CTR' '206']\n",
      "EST 130128\n",
      "CST 127461\n",
      "PST 73773\n",
      "MST 67919\n",
      "CDT 49870\n",
      "CPT 40665\n",
      "PDT 38843\n",
      "EDT 38732\n",
      "DST 11033\n",
      "MDT 10197\n",
      "PPT 9469\n",
      "EPT 6201\n",
      "HST 5476\n",
      "2 4734\n",
      "CS 3312\n",
      "AKD 3087\n",
      "1 2559\n",
      " 2557\n",
      "MS 2191\n",
      "MPP 2188\n",
      "CD 2152\n",
      "EDS 1658\n",
      "AKS 1649\n",
      "MPT 731\n",
      "EAS 730\n",
      "CEN 730\n",
      "CDS 715\n",
      "AST 517\n",
      "E 363\n",
      "ADT 210\n",
      "CSR 3\n",
      "433 2\n",
      "CTR 1\n",
      "206 1\n"
     ]
    }
   ],
   "source": [
    "\n",
    "timezones, counts = np.unique(df['timezone'].values.astype('str'), return_counts=True)\n",
    "argsort = np.argsort(counts)[::-1]\n",
    "print(counts[argsort])\n",
    "print(timezones[argsort])\n",
    "for ii in argsort:\n",
    "    print(timezones[ii], counts[ii])"
   ]
  },
  {
   "cell_type": "code",
   "execution_count": 4,
   "metadata": {},
   "outputs": [],
   "source": [
    "timezone_mapping = {\n",
    "    \"EST\": \"Etc/GMT+5\", \n",
    "    \"CST\": \"Etc/GMT+6\", \n",
    "    \"CS\": \"Etc/GMT+6\", \n",
    "    \"PST\": \"Etc/GMT+8\", \n",
    "    \"MST\": \"Etc/GMT+7\", \n",
    "    \"HST\": \"Etc/GMT+10\",\n",
    "    \"AKST\": \"Etc/GMT+9\",\n",
    "    \"EDT\": \"Etc/GMT+4\",\n",
    "    \"CDT\": \"Etc/GMT+5\",\n",
    "    \"CD\": \"Etc/GMT+5\",\n",
    "    \"PDT\": \"Etc/GMT+7\",\n",
    "    \"MDT\": \"Etc/GMT+6\",\n",
    "}\n",
    "df['timezone'] = df['timezone'].apply(timezone_mapping.get)\n",
    "df = df.dropna(subset=['timezone'])"
   ]
  },
  {
   "cell_type": "code",
   "execution_count": 5,
   "metadata": {},
   "outputs": [
    {
     "name": "stdout",
     "output_type": "stream",
     "text": [
      "[182150 140970 106762  73773  38732   5476]\n",
      "['Etc/GMT+5' 'Etc/GMT+6' 'Etc/GMT+7' 'Etc/GMT+8' 'Etc/GMT+4' 'Etc/GMT+10']\n",
      "Etc/GMT+5 182150\n",
      "Etc/GMT+6 140970\n",
      "Etc/GMT+7 106762\n",
      "Etc/GMT+8 73773\n",
      "Etc/GMT+4 38732\n",
      "Etc/GMT+10 5476\n"
     ]
    }
   ],
   "source": [
    "timezones, counts = np.unique(df['timezone'].values.astype('str'), return_counts=True)\n",
    "argsort = np.argsort(counts)[::-1]\n",
    "print(counts[argsort])\n",
    "print(timezones[argsort])\n",
    "for ii in argsort:\n",
    "    print(timezones[ii], counts[ii])"
   ]
  },
  {
   "cell_type": "code",
   "execution_count": 13,
   "metadata": {},
   "outputs": [],
   "source": [
    "# Data Preparation\n",
    "def prepare_data(df):\n",
    "    # Melt hourly columns to long format\n",
    "    id_vars = ['respondent_id', 'plan_date', 'timezone']\n",
    "    hour_cols = [f'hour{ii:02}' for ii in range(1, 26)]\n",
    "    df = df[hour_cols + id_vars]\n",
    "    rename_dict = {a_col: int(a_col[-2:]) for a_col in hour_cols}\n",
    "    df.rename(columns=rename_dict, inplace=True)\n",
    "    df['plan_date'] = pd.to_datetime(df['plan_date'])\n",
    "    df['plan_date'] = df.apply(\n",
    "        lambda row: row['plan_date'].tz_localize(\n",
    "            row['timezone']).tz_convert('UTC'),\n",
    "        axis=1\n",
    "    )\n",
    "    df = pd.melt(df, \n",
    "                id_vars=id_vars,\n",
    "                value_vars=np.arange(1, 25),\n",
    "                var_name='hour',\n",
    "                value_name='load')\n",
    "\n",
    "    # Create local datetime\n",
    "    df['utc_datetime'] = df['plan_date'] + pd.to_timedelta(df['hour'], unit='h')\n",
    "    df = df.dropna(subset=['utc_datetime', 'load'])\n",
    "    \n",
    "    # Feature engineering\n",
    "    df['utc_hour'] = df['utc_datetime'].dt.hour\n",
    "    df['utc_dayofweek'] = df['utc_datetime'].dt.dayofweek\n",
    "    df['utc_month'] = df['utc_datetime'].dt.month\n",
    "    df['utc_year'] = df['utc_datetime'].dt.year\n",
    "    \n",
    "    # Cyclic encoding\n",
    "    df['utc_hour_sin'] = np.sin(2 * np.pi * df['utc_hour'] / 24)\n",
    "    df['utc_hour_cos'] = np.cos(2 * np.pi * df['utc_hour'] / 24)\n",
    "    df['utc_dayofweek_sin'] = np.sin(2 * np.pi * df['utc_dayofweek'] / 7)\n",
    "    df['utc_dayofweek_cos'] = np.cos(2 * np.pi * df['utc_dayofweek'] / 7)\n",
    "    df['utc_month_sin'] = np.sin(2 * np.pi * df['utc_month'] / 12)\n",
    "    df['utc_month_cos'] = np.cos(2 * np.pi * df['utc_month'] / 12)\n",
    "    \n",
    "    # Normalize year\n",
    "    df['utc_year'] = (df['utc_year'] - df['utc_year'].mean()) / df['utc_year'].std()\n",
    "    \n",
    "    # Encode respondents\n",
    "    df['respondent_id'] = df['respondent_id'].astype('category')\n",
    "    df['respondent_idx'] = df['respondent_id'].cat.codes\n",
    "    \n",
    "    return df\n"
   ]
  },
  {
   "cell_type": "code",
   "execution_count": 18,
   "metadata": {},
   "outputs": [
    {
     "name": "stderr",
     "output_type": "stream",
     "text": [
      "/tmp/ipykernel_3252365/1144664126.py:8: SettingWithCopyWarning: \n",
      "A value is trying to be set on a copy of a slice from a DataFrame\n",
      "\n",
      "See the caveats in the documentation: https://pandas.pydata.org/pandas-docs/stable/user_guide/indexing.html#returning-a-view-versus-a-copy\n",
      "  df.rename(columns=rename_dict, inplace=True)\n",
      "/tmp/ipykernel_3252365/1144664126.py:9: SettingWithCopyWarning: \n",
      "A value is trying to be set on a copy of a slice from a DataFrame.\n",
      "Try using .loc[row_indexer,col_indexer] = value instead\n",
      "\n",
      "See the caveats in the documentation: https://pandas.pydata.org/pandas-docs/stable/user_guide/indexing.html#returning-a-view-versus-a-copy\n",
      "  df['plan_date'] = pd.to_datetime(df['plan_date'])\n",
      "/tmp/ipykernel_3252365/1144664126.py:10: SettingWithCopyWarning: \n",
      "A value is trying to be set on a copy of a slice from a DataFrame.\n",
      "Try using .loc[row_indexer,col_indexer] = value instead\n",
      "\n",
      "See the caveats in the documentation: https://pandas.pydata.org/pandas-docs/stable/user_guide/indexing.html#returning-a-view-versus-a-copy\n",
      "  df['plan_date'] = df.apply(\n"
     ]
    }
   ],
   "source": [
    "df_prep = prepare_data(df)"
   ]
  }
 ],
 "metadata": {
  "kernelspec": {
   "display_name": "general",
   "language": "python",
   "name": "python3"
  },
  "language_info": {
   "codemirror_mode": {
    "name": "ipython",
    "version": 3
   },
   "file_extension": ".py",
   "mimetype": "text/x-python",
   "name": "python",
   "nbconvert_exporter": "python",
   "pygments_lexer": "ipython3",
   "version": "3.12.2"
  }
 },
 "nbformat": 4,
 "nbformat_minor": 2
}
