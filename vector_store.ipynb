{
 "cells": [
  {
   "cell_type": "code",
   "execution_count": 2,
   "metadata": {},
   "outputs": [],
   "source": [
    "import torch\n",
    "import faiss\n",
    "import numpy as np\n",
    "from langchain.embeddings import HuggingFaceEmbeddings\n",
    "from sentence_transformers import SentenceTransformer\n"
   ]
  },
  {
   "cell_type": "code",
   "execution_count": null,
   "metadata": {},
   "outputs": [
    {
     "data": {
      "application/vnd.jupyter.widget-view+json": {
       "model_id": "7f7b51518b9343e48e6ce4ae97e92b81",
       "version_major": 2,
       "version_minor": 0
      },
      "text/plain": [
       "modules.json:   0%|          | 0.00/349 [00:00<?, ?B/s]"
      ]
     },
     "metadata": {},
     "output_type": "display_data"
    },
    {
     "data": {
      "application/vnd.jupyter.widget-view+json": {
       "model_id": "97e73e879b484f158c766c3d20b271a3",
       "version_major": 2,
       "version_minor": 0
      },
      "text/plain": [
       "config_sentence_transformers.json:   0%|          | 0.00/116 [00:00<?, ?B/s]"
      ]
     },
     "metadata": {},
     "output_type": "display_data"
    },
    {
     "data": {
      "application/vnd.jupyter.widget-view+json": {
       "model_id": "b913b29d6f84445ba2c7b2ef597477e9",
       "version_major": 2,
       "version_minor": 0
      },
      "text/plain": [
       "README.md:   0%|          | 0.00/10.5k [00:00<?, ?B/s]"
      ]
     },
     "metadata": {},
     "output_type": "display_data"
    },
    {
     "data": {
      "application/vnd.jupyter.widget-view+json": {
       "model_id": "a5307d57761042dc9616cfab26bbd1f6",
       "version_major": 2,
       "version_minor": 0
      },
      "text/plain": [
       "sentence_bert_config.json:   0%|          | 0.00/53.0 [00:00<?, ?B/s]"
      ]
     },
     "metadata": {},
     "output_type": "display_data"
    },
    {
     "data": {
      "application/vnd.jupyter.widget-view+json": {
       "model_id": "63019f6f0fc7486b9cb9fd4adaa2c7df",
       "version_major": 2,
       "version_minor": 0
      },
      "text/plain": [
       "config.json:   0%|          | 0.00/612 [00:00<?, ?B/s]"
      ]
     },
     "metadata": {},
     "output_type": "display_data"
    },
    {
     "data": {
      "application/vnd.jupyter.widget-view+json": {
       "model_id": "ec82d2625659426490ec35e32d856f45",
       "version_major": 2,
       "version_minor": 0
      },
      "text/plain": [
       "model.safetensors:   0%|          | 0.00/90.9M [00:00<?, ?B/s]"
      ]
     },
     "metadata": {},
     "output_type": "display_data"
    },
    {
     "data": {
      "application/vnd.jupyter.widget-view+json": {
       "model_id": "92104c6991254c449597235896713a83",
       "version_major": 2,
       "version_minor": 0
      },
      "text/plain": [
       "tokenizer_config.json:   0%|          | 0.00/350 [00:00<?, ?B/s]"
      ]
     },
     "metadata": {},
     "output_type": "display_data"
    },
    {
     "data": {
      "application/vnd.jupyter.widget-view+json": {
       "model_id": "d07588768b91436dacc17f17a5b41238",
       "version_major": 2,
       "version_minor": 0
      },
      "text/plain": [
       "vocab.txt:   0%|          | 0.00/232k [00:00<?, ?B/s]"
      ]
     },
     "metadata": {},
     "output_type": "display_data"
    },
    {
     "data": {
      "application/vnd.jupyter.widget-view+json": {
       "model_id": "bc2a6363b19c4003b6ec03868e55984a",
       "version_major": 2,
       "version_minor": 0
      },
      "text/plain": [
       "tokenizer.json:   0%|          | 0.00/466k [00:00<?, ?B/s]"
      ]
     },
     "metadata": {},
     "output_type": "display_data"
    },
    {
     "data": {
      "application/vnd.jupyter.widget-view+json": {
       "model_id": "85b20fee67374c24b7455a7937e28577",
       "version_major": 2,
       "version_minor": 0
      },
      "text/plain": [
       "special_tokens_map.json:   0%|          | 0.00/112 [00:00<?, ?B/s]"
      ]
     },
     "metadata": {},
     "output_type": "display_data"
    },
    {
     "data": {
      "application/vnd.jupyter.widget-view+json": {
       "model_id": "6eff21074acf4dea97cc61feeaf07855",
       "version_major": 2,
       "version_minor": 0
      },
      "text/plain": [
       "config.json:   0%|          | 0.00/190 [00:00<?, ?B/s]"
      ]
     },
     "metadata": {},
     "output_type": "display_data"
    }
   ],
   "source": [
    "# Configuration\n",
    "MODEL_NAME = \"sentence-transformers/all-MiniLM-L6-v2\"\n",
    "BATCH_SIZE = 128  \n",
    "DIMENSION = 384  # Dimension of embeddings from all-MiniLM-L6-v2\n",
    "\n",
    "# Initialize embedding model on GPU with mixed precision\n",
    "model = SentenceTransformer(MODEL_NAME, device=\"cuda\")\n",
    "model = model.half()  # Use FP16 to save memory\n",
    "\n",
    "def generate_embeddings(texts: list[str]) -> np.ndarray:\n",
    "    \"\"\"Generate embeddings on GPU in batches.\"\"\"\n",
    "    embeddings = model.encode(\n",
    "        texts,\n",
    "        batch_size=BATCH_SIZE,\n",
    "        convert_to_tensor=True,\n",
    "        convert_to_numpy=False,\n",
    "        device=\"cuda\"\n",
    "    )\n",
    "    return embeddings.float().cpu().numpy()  # Convert to FP32 CPU numpy array\n"
   ]
  },
  {
   "cell_type": "code",
   "execution_count": 5,
   "metadata": {},
   "outputs": [],
   "source": [
    "\n",
    "# Sample documents\n",
    "documents = [\n",
    "    \"The cat sits on the mat.\",\n",
    "    \"A dog is running in the park.\",\n",
    "    \"Birds are singing in the trees.\",\n",
    "    # Add your own documents here\n",
    "]\n",
    "\n",
    "# Generate embeddings\n",
    "embeddings_np = generate_embeddings(documents)\n"
   ]
  },
  {
   "cell_type": "code",
   "execution_count": null,
   "metadata": {},
   "outputs": [],
   "source": [
    "# Create FAISS GPU index\n",
    "res = faiss.StandardGpuResources()\n",
    "index = faiss.IndexFlatL2(DIMENSION)\n",
    "gpu_index = faiss.index_cpu_to_gpu(res, 0, index)\n",
    "gpu_index.add(embeddings_np)"
   ]
  },
  {
   "cell_type": "code",
   "execution_count": null,
   "metadata": {},
   "outputs": [],
   "source": [
    "def similarity_search(query: str, k: int = 3) -> tuple[list[int], list[float]]:\n",
    "    \"\"\"Search for similar vectors using GPU acceleration.\"\"\"\n",
    "    query_embedding = model.encode(\n",
    "        query,\n",
    "        convert_to_tensor=True,\n",
    "        device=\"cuda\"\n",
    "    ).float().cpu().numpy()\n",
    "    \n",
    "    distances, indices = gpu_index.search(\n",
    "        np.expand_dims(query_embedding, axis=0).astype(\"float32\"), \n",
    "        k\n",
    "    )\n",
    "    return indices[0].tolist(), distances[0].tolist()"
   ]
  },
  {
   "cell_type": "code",
   "execution_count": null,
   "metadata": {},
   "outputs": [
    {
     "name": "stdout",
     "output_type": "stream",
     "text": [
      "Most similar indices: [0, 2, 1]\n",
      "Distances: [1.4387826919555664, 1.4573981761932373, 1.582641363143921]\n"
     ]
    }
   ],
   "source": [
    "query = \"animals resting at home\"\n",
    "indices, distances = similarity_search(query)\n",
    "print(\"Most similar indices:\", indices)\n",
    "print(\"Distances:\", distances)"
   ]
  }
 ],
 "metadata": {
  "kernelspec": {
   "display_name": "rag",
   "language": "python",
   "name": "python3"
  },
  "language_info": {
   "codemirror_mode": {
    "name": "ipython",
    "version": 3
   },
   "file_extension": ".py",
   "mimetype": "text/x-python",
   "name": "python",
   "nbconvert_exporter": "python",
   "pygments_lexer": "ipython3",
   "version": "3.12.9"
  }
 },
 "nbformat": 4,
 "nbformat_minor": 2
}
